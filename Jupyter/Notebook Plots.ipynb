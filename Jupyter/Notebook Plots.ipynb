{
 "metadata": {
  "language_info": {
   "codemirror_mode": {
    "name": "ipython",
    "version": 3
   },
   "file_extension": ".py",
   "mimetype": "text/x-python",
   "name": "python",
   "nbconvert_exporter": "python",
   "pygments_lexer": "ipython3",
   "version": "3.9.2-final"
  },
  "orig_nbformat": 2,
  "kernelspec": {
   "name": "python3",
   "display_name": "Python 3.9.2 64-bit",
   "metadata": {
    "interpreter": {
     "hash": "ec6e44dc0cb833ac4a17cdd29b31cab92dd06139fa5fc2764b4343f643a58532"
    }
   }
  }
 },
 "nbformat": 4,
 "nbformat_minor": 2,
 "cells": [
  {
   "cell_type": "code",
   "execution_count": null,
   "metadata": {},
   "outputs": [],
   "source": [
    "import numpy as np\n",
    "import matplotlib.pyplot as plt\n",
    "from mpl_toolkits import mplot3d\n",
    "\n",
    "### Data Sets\n",
    "\n",
    "# Creating radius data (x-axis)\n",
    "lowerRadiusBoundary = 0.01 # m\n",
    "upperRadiusBoundary = 1.00 # m\n",
    "radius = np.linspace(lowerRadiusBoundary, upperRadiusBoundary, num=200)\n",
    "\n",
    "# Creating mass data (y-axis)\n",
    "lowerWeightBoundary = 0.01 # kg\n",
    "upperWeightBoundary = 1250.00 # kg\n",
    "mass = np.linspace(lowerWeightBoundary, upperWeightBoundary, num=200)\n",
    "\n",
    "# Creating Torque data (z-axis)\n",
    "RADIUS, MASS = np.meshgrid(radius, mass)\n",
    "\n",
    "# Torque func\n",
    "def calcTorque(x, y):\n",
    "    loadTorque = x * y * 9.81\n",
    "    accelTorque = np.sqrt(np.power((3319.9575 * (np.power(x, 2))),2))\n",
    "    return loadTorque + accelTorque\n",
    "\n",
    "TORQUE = calcTorque(RADIUS, MASS)\n",
    "\n",
    "# Creating Limit Data\n",
    "LIMIT = np.ones((200,200))\n",
    "\n",
    "# Limit func\n",
    "def calcLimit(x, y):\n",
    "    return 4500\n",
    "\n",
    "LIMIT = LIMIT * 4500\n",
    "\n",
    "### Plotting\n",
    "\n",
    "# Creating Figure\n",
    "fig = plt.figure(figsize = (25, 25))\n",
    "ax = plt.axes(projection = '3d')\n",
    "\n",
    "# Creating color map\n",
    "cm = plt.get_cmap('viridis')\n",
    "cm2 = plt.get_cmap('hot')\n",
    "\n",
    "# Drawing\n",
    "\n",
    "# Torque as a function of radius and load\n",
    "surf = ax.plot_surface(RADIUS, MASS, TORQUE, rstride = 8, cstride = 8, alpha = 0.8, cmap = cm)\n",
    "\n",
    "# Contour plot of torque surface\n",
    "cset = ax.contourf(RADIUS, MASS, TORQUE, \n",
    "                   zdir ='z', \n",
    "                   offset = np.min(TORQUE), \n",
    "                   cmap = cm)\n",
    "\n",
    "# Limit plane\n",
    "surfLimit = ax.plot_surface(RADIUS, MASS, LIMIT, rstride = 8, cstride = 8, alpha = 0.35, cmap = cm2)\n",
    "\n",
    "ax.set_xlabel('Radius (m)')\n",
    "ax.set_ylabel('Mass (kg)')\n",
    "ax.set_zlabel('Torque (Nm)')\n",
    "ax.set_title('Motor Torque Requirement as a Function of Radius & Load')\n",
    "\n",
    "plt.show()"
   ]
  }
 ]
}